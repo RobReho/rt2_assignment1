{
 "cells": [
  {
   "cell_type": "markdown",
   "id": "8fa17a33",
   "metadata": {},
   "source": [
    "# Research Track 2 - Assignment 2\n",
    "\n",
    "The package **rt2_assignment1** contains a modular structure able to simulate a vehicle in  a Gazebo simulation that can either reach a series of random goals or move following the user teleoperation.\n",
    "The original ``user_interface`` node has been replaced with the new interface implemented below. The new user interface allows to get a random goal for the robot to reach, teleoperate it, and also shows some feedbacks through a graphical interface.\n",
    "\n",
    "## Dependencies\n",
    "\n",
    "## Running the code\n",
    "This is a ROS package, so make sure to source it the bashrc.  \n",
    "All the necessary nodes can be run through the command:  \n",
    "    ```\n",
    "        rosalunch rt2_assignment1 sim.launch       \n",
    "    ```  \n",
    "The graphical user interface is available on jupyter notebook an can be run through:  \n",
    "    ```  \n",
    "        jupyter notebook --allow-root  \n",
    "    ```  \n",
    "in the folder **rt2_assignment1/src/jupyter**. \n",
    "\n",
    "## Package architecture\n",
    "The package is composed by two cpp nodes\n",
    "- position_server\n",
    "- state_machine\n",
    "\n",
    "and two python nodes\n",
    "\n",
    "- user_interface\n",
    "- go_to_point\n",
    "\n",
    "## User interface\n",
    "The Jupyter user interface allows to send commands to the vehicle in the Gazebo environment as well as getting visual feedbacks."
   ]
  },
  {
   "cell_type": "code",
   "execution_count": null,
   "id": "8001d3ec",
   "metadata": {
    "ExecuteTime": {
     "start_time": "2022-06-02T15:38:29.443Z"
    }
   },
   "outputs": [
    {
     "name": "stdout",
     "output_type": "stream",
     "text": [
      "Unable to register with master node [http://localhost:11311]: master may not be running yet. Will keep trying.\n"
     ]
    }
   ],
   "source": [
    "%matplotlib widget\n",
    "import numpy as np\n",
    "import jupyros as jr\n",
    "import rospy\n",
    "from geometry_msgs.msg import Twist\n",
    "import ipywidgets as widgets\n",
    "from ipywidgets import Button, Layout, ButtonStyle, GridBox, VBox, HBox\n",
    "import actionlib\n",
    "import actionlib.msg\n",
    "from actionlib_msgs.msg import GoalID\n",
    "import rt2_assignment1.msg\n",
    "import time\n",
    "from rt2_assignment1.srv import Command\n",
    "import matplotlib.pyplot as plt\n",
    "from nav_msgs.msg import Odometry\n",
    "from matplotlib import animation, rc\n",
    "from geometry_msgs.msg import Twist\n",
    "import ipywidgets as widgets\n",
    "import time\n",
    "\n",
    "teleop = True   # flag for canceling goals in the teleop mode\n",
    "reached = 0     # number of reached goals\n",
    "canceled = 0    # number of canceled goals\n",
    "start_t = 0     # goal reching start time instance \n",
    "stop_t = 0      # goal reched time instance\n",
    "elapsed_t = []  # list of the amount of time taken to reach each goal \n",
    "\n",
    "'''\n",
    "    Callback of the /reaching_goal/result topic\n",
    "    if the goal has been reached succesfully, the global variable \"reached\" is incremented,\n",
    "    the variable \"stop_t\" is updated with the current time and the duration is computed and appended in the\n",
    "    \"elapsed_t\" list. '''\n",
    "def result_callback(result):\n",
    "    global reached, start_t, stop_t, elapsed_t\n",
    "    if(result.result.result):\n",
    "        reached +=1\n",
    "        stop_t = time.time()\n",
    "        elapsed = stop_t - start_t\n",
    "        elapsed_t.append(elapsed)\n",
    "        \n",
    "        \n",
    "rospy.init_node('user_interface')\n",
    "\n",
    "pub = rospy.Publisher('cmd_vel', Twist, queue_size=10)\n",
    "sub = rospy.Subscriber('/reaching_goal/result',rt2_assignment1.msg.PlanningActionResult,result_callback)\n",
    "ui_client = rospy.ServiceProxy('/user_interface', Command)\n",
    "msg = Twist()"
   ]
  },
  {
   "cell_type": "markdown",
   "id": "6a00042f",
   "metadata": {},
   "source": [
    "### Random goal interface\n",
    "The \"start and stop\" command interface from the original package has been reimplemented in the notebook and uses buttons from the **ipywidgets** library. As the former one, it is the client to the ``/user_interface`` service that communicates with the ``state_machine`` node.  \n",
    "The Start button callback publishes a \"start\" Command message, updates the global variable \"start_t\" with the current time instance.  \n",
    "The Stop button callback publishes a \"stop\" Command message, updates the global variable \"canceled\".\n"
   ]
  },
  {
   "cell_type": "code",
   "execution_count": null,
   "id": "a017573d",
   "metadata": {},
   "outputs": [],
   "source": [
    "#Random position behaviour\n",
    "start_button = widgets.Button(description=\"start\")\n",
    "output = widgets.Output()\n",
    "display(start_button, output)\n",
    "\n",
    "stop_button = widgets.Button(description=\"stop\")\n",
    "output = widgets.Output()\n",
    "display(stop_button, output)\n",
    "\n",
    "def on_start_button_clicked(b):\n",
    "    global teleop, start_t\n",
    "    with output:\n",
    "        ui_client(\"start\")\n",
    "        start_t = time.time()\n",
    "        teleop = False\n",
    "        \n",
    "def on_stop_button_clicked(b):\n",
    "    global teleop, canceled\n",
    "    with output:\n",
    "        ui_client(\"stop\")\n",
    "        canceled +=1\n",
    "        teleop = False\n",
    "\n",
    "start_button.on_click(on_start_button_clicked)\n",
    "stop_button.on_click(on_stop_button_clicked)"
   ]
  },
  {
   "cell_type": "markdown",
   "id": "e6859cd7",
   "metadata": {},
   "source": [
    "### Teleoperation interface\n",
    "This second part of the interface allows to teleoperate the robot through four directional buttons and one stop button. The directional buttons call a class of functions that publish a ``Twist`` message to the ``/cmd_vel`` topic with the appropriate velocity component. In order to switch fromthe previous \"reach a random goal\" modality to this one it is sufficient to push one of the five button, as the active goal, if any, will be canceled upon calling of any function of the class ``Instruction()``. From this isnterface it is also possible to change the linear and angular velocity of the robot through two sliders that range from 0.0 to 2.0. The values are published on the topic ``/cmd_vel`` upon sliding the widget."
   ]
  },
  {
   "cell_type": "code",
   "execution_count": 2,
   "id": "e0366361",
   "metadata": {
    "ExecuteTime": {
     "end_time": "2022-06-01T16:20:04.531215Z",
     "start_time": "2022-06-01T16:20:04.464671Z"
    }
   },
   "outputs": [
    {
     "data": {
      "application/vnd.jupyter.widget-view+json": {
       "model_id": "f6c24b40e09e40f19db64347ec6a14fd",
       "version_major": 2,
       "version_minor": 0
      },
      "text/plain": [
       "FloatSlider(value=1.0, description='Linear vel:', max=2.0)"
      ]
     },
     "metadata": {},
     "output_type": "display_data"
    },
    {
     "data": {
      "application/vnd.jupyter.widget-view+json": {
       "model_id": "b029c2205e584cd3bb5348c036efe845",
       "version_major": 2,
       "version_minor": 0
      },
      "text/plain": [
       "Output()"
      ]
     },
     "metadata": {},
     "output_type": "display_data"
    },
    {
     "data": {
      "application/vnd.jupyter.widget-view+json": {
       "model_id": "a818dd2aafab4ed28d24a8298c2b5528",
       "version_major": 2,
       "version_minor": 0
      },
      "text/plain": [
       "FloatSlider(value=1.0, description='Angular vel:', max=2.0)"
      ]
     },
     "metadata": {},
     "output_type": "display_data"
    },
    {
     "data": {
      "application/vnd.jupyter.widget-view+json": {
       "model_id": "88f366e5b4174085b3642dbaa51379ad",
       "version_major": 2,
       "version_minor": 0
      },
      "text/plain": [
       "Output()"
      ]
     },
     "metadata": {},
     "output_type": "display_data"
    },
    {
     "data": {
      "application/vnd.jupyter.widget-view+json": {
       "model_id": "f9ce1a3d043d41a09c19e0ccd6a18769",
       "version_major": 2,
       "version_minor": 0
      },
      "text/plain": [
       "GridBox(children=(Button(description='^', layout=Layout(grid_area='b_u', width='auto'), style=ButtonStyle(butt…"
      ]
     },
     "metadata": {},
     "output_type": "display_data"
    }
   ],
   "source": [
    "# Teleoperation\n",
    "## Sliders\n",
    "lin_vel = widgets.FloatSlider(min=0, max=2, value=1.0, description='Linear vel:')\n",
    "lin_out = widgets.Output()\n",
    "display(lin_vel, lin_out)\n",
    "\n",
    "ang_vel = widgets.FloatSlider(min=0, max=2, value=1.0, description='Angular vel:')\n",
    "ang_out = widgets.Output()\n",
    "display(ang_vel, ang_out)\n",
    "\n",
    "def on_lin_change(change):\n",
    "    with lin_out:\n",
    "        global msg\n",
    "        msg.linear.x = change['new']\n",
    "        pub.publish(msg)\n",
    "        \n",
    "def on_ang_change(change):\n",
    "    with ang_out:\n",
    "        global msg\n",
    "        msg.angular.z = change['new']\n",
    "        pub.publish(msg)\n",
    "\n",
    "        \n",
    "lin_vel.observe(on_lin_change,\n",
    "names='value')\n",
    "\n",
    "ang_vel.observe(on_ang_change,\n",
    "names='value')\n",
    "\n",
    "\n",
    "## Buttons\n",
    "b_up = Button(description='^',\n",
    "    layout=Layout(width='auto', align=\"center\", grid_area='b_u'),\n",
    "    style=ButtonStyle(button_color='lightblue'))\n",
    "b_down = Button(description='v',\n",
    "    layout=Layout(width='auto', grid_area='b_d'),\n",
    "    style=ButtonStyle(button_color='lightblue'))\n",
    "b_left = Button(description='<',\n",
    "    layout=Layout(width='auto', grid_area='b_l'),\n",
    "    style=ButtonStyle(button_color='lightblue'))\n",
    "b_right = Button(description='>',\n",
    "    layout=Layout(width='auto', grid_area='b_r'),\n",
    "    style=ButtonStyle(button_color='lightblue'))\n",
    "b_stop = Button(description='stop',\n",
    "    layout=Layout(width='auto', grid_area='b_s'),\n",
    "    style=ButtonStyle(button_color='red'))\n",
    "\n",
    "GridBox(children=[b_up, b_down, b_left, b_right, b_stop],\n",
    "    layout=Layout(\n",
    "        width='40%',\n",
    "        grid_template_rows='auto auto auto auto auto',\n",
    "        grid_template_columns='33% 33% 33%',\n",
    "        grid_template_areas='''\n",
    "        \" . b_u . \"\n",
    "        \"b_l b_d b_r \"\n",
    "        \" . b_s . \"\n",
    "        \"lin . .\"\n",
    "        \"ang . .\"\n",
    "        ''')\n",
    ")"
   ]
  },
  {
   "cell_type": "code",
   "execution_count": 3,
   "id": "f40d411f",
   "metadata": {
    "ExecuteTime": {
     "end_time": "2022-06-01T16:20:04.541531Z",
     "start_time": "2022-06-01T16:20:04.533851Z"
    }
   },
   "outputs": [],
   "source": [
    "def cancel_goal():\n",
    "    global teleop, canceled\n",
    "    if not teleop:\n",
    "        ui_client(\"stop\")\n",
    "        teleop = True\n",
    "        canceled +=1\n",
    "        \n",
    "class Instruction:\n",
    "    def up(self, event):\n",
    "        global msg, ac\n",
    "        cancel_goal()\n",
    "        msg.linear.x = 1*lin_vel.value\n",
    "        pub.publish(msg)\n",
    "        \n",
    "    def down(self, event):\n",
    "        global msg, ac\n",
    "        cancel_goal()\n",
    "        msg.linear.x = -1*lin_vel.value\n",
    "        pub.publish(msg)\n",
    "        \n",
    "    def left(self, event):\n",
    "        global msg, ac\n",
    "        cancel_goal()\n",
    "        msg.angular.z = -1*ang_vel.value\n",
    "        pub.publish(msg)\n",
    "        \n",
    "    def right(self, event):\n",
    "        global msg, ac\n",
    "        cancel_goal()\n",
    "        msg.angular.z = 1*ang_vel.value\n",
    "        pub.publish(msg)\n",
    "    \n",
    "    def stop(self, event):\n",
    "        global msg, ac\n",
    "        cancel_goal()\n",
    "        msg.linear.x = 0\n",
    "        msg.angular.z = 0\n",
    "        pub.publish(msg)\n",
    "\n",
    "callback = Instruction()\n",
    "b_up.on_click(callback.up)\n",
    "b_down.on_click(callback.down)\n",
    "b_left.on_click(callback.left)\n",
    "b_right.on_click(callback.right)\n",
    "b_stop.on_click(callback.stop)"
   ]
  },
  {
   "cell_type": "markdown",
   "id": "3dd4b132",
   "metadata": {},
   "source": [
    "## Graphical feedbacks\n",
    "\n",
    "### Imposed vs actual velocities\n",
    "The graph plots in real time the actual linear and angular velocities, provided by the ``/odom`` topic, against the imposed linear and angular velocities, provided by the ``/cmd_vel`` topic."
   ]
  },
  {
   "cell_type": "code",
   "execution_count": 14,
   "id": "3dac3cce",
   "metadata": {
    "ExecuteTime": {
     "end_time": "2022-06-01T16:21:37.119148Z",
     "start_time": "2022-06-01T16:21:37.027792Z"
    }
   },
   "outputs": [
    {
     "data": {
      "application/vnd.jupyter.widget-view+json": {
       "model_id": "cbc790198cc64bd5aae7d80a5d6b9a2b",
       "version_major": 2,
       "version_minor": 0
      },
      "text/plain": [
       "Canvas(toolbar=Toolbar(toolitems=[('Home', 'Reset original view', 'home', 'home'), ('Back', 'Back to previous …"
      ]
     },
     "metadata": {},
     "output_type": "display_data"
    }
   ],
   "source": [
    "# Odometry vs cmd_vel Velocities graph\n",
    "\n",
    "timeline = list(range(0, 10))\n",
    "start_timer = time.time()\n",
    "\n",
    "fig, ax = plt.subplots()\n",
    "# plots\n",
    "lin_odom, = ax.plot([], [], color='b', label='odom lin vel') \n",
    "ang_odom, = ax.plot([], [], color='r', label='odom ang vel') \n",
    "lin_cmd, = ax.plot([], [], color='b', linestyle='--', label='cmd lin vel') \n",
    "ang_cmd, = ax.plot([], [], color='r', linestyle='--', label='cmd ang vel')\n",
    "# lables\n",
    "ax.set_xlabel('time (s)') \n",
    "ax.set_ylabel('velocities')\n",
    "ax.set_title(\"Odometry vs cmd_vel\")\n",
    "plt.legend(loc='lower left')\n",
    "plt.show()\n",
    "\n",
    "lo_data = []\n",
    "ao_data = []\n",
    "lc_data = []\n",
    "ac_data = []"
   ]
  },
  {
   "cell_type": "code",
   "execution_count": 15,
   "id": "b0e87cbe",
   "metadata": {
    "ExecuteTime": {
     "end_time": "2022-06-01T16:21:55.542278Z",
     "start_time": "2022-06-01T16:21:55.471166Z"
    }
   },
   "outputs": [
    {
     "name": "stderr",
     "output_type": "stream",
     "text": [
      "Removing previous callback, only one redirection possible right now\n"
     ]
    },
    {
     "data": {
      "application/vnd.jupyter.widget-view+json": {
       "model_id": "d352c29277f84aea88b7ed9a28b86845",
       "version_major": 2,
       "version_minor": 0
      },
      "text/plain": [
       "VBox(children=(HBox(children=(Button(description='Stop', style=ButtonStyle()),)), Output(layout=Layout(border=…"
      ]
     },
     "metadata": {},
     "output_type": "display_data"
    }
   ],
   "source": [
    "def init1():\n",
    "    lin_odom.set_data([], [])\n",
    "    ang_odom.set_data([], [])\n",
    "    lin_cmd.set_data([], [])\n",
    "    ang_cmd.set_data([], [])\n",
    "    return (lin_odom, ang_odom, lin_cmd, ang_cmd)\n",
    "\n",
    "\n",
    "def odom_twist_callback(msg):\n",
    "    if len(timeline)>10:\n",
    "        timeline.pop(0)\n",
    "    if len(lo_data)>10:\n",
    "        lo_data.pop(0)\n",
    "    if len(ao_data)>10:\n",
    "        ao_data.pop(0)\n",
    "    lo_data.append(msg.twist.twist.linear.x)\n",
    "    ao_data.append(msg.twist.twist.angular.z)\n",
    "    timeline.append(time.time()-start_timer)\n",
    "    \n",
    "jr.subscribe('/odom', Odometry, odom_twist_callback)"
   ]
  },
  {
   "cell_type": "code",
   "execution_count": 16,
   "id": "df06f0ed",
   "metadata": {
    "ExecuteTime": {
     "end_time": "2022-06-01T16:21:56.545096Z",
     "start_time": "2022-06-01T16:21:56.462396Z"
    }
   },
   "outputs": [
    {
     "name": "stderr",
     "output_type": "stream",
     "text": [
      "Removing previous callback, only one redirection possible right now\n"
     ]
    },
    {
     "data": {
      "application/vnd.jupyter.widget-view+json": {
       "model_id": "d7385f38ebb44a02af3b89bbc38e98e5",
       "version_major": 2,
       "version_minor": 0
      },
      "text/plain": [
       "VBox(children=(HBox(children=(Button(description='Stop', style=ButtonStyle()),)), Output(layout=Layout(border=…"
      ]
     },
     "metadata": {},
     "output_type": "display_data"
    }
   ],
   "source": [
    "def cmd_callback(msg):\n",
    "    if len(timeline)>10:\n",
    "        timeline.pop(0)\n",
    "    if len(lc_data)>10:\n",
    "        lc_data.pop(0)\n",
    "    if len(ac_data)>10:\n",
    "        ac_data.pop(0)\n",
    "    lc_data.append(msg.linear.x)\n",
    "    ac_data.append(msg.angular.z)\n",
    "    timeline.append(time.time()-start_timer)\n",
    "    \n",
    "jr.subscribe('/cmd_vel', Twist, cmd_callback)"
   ]
  },
  {
   "cell_type": "code",
   "execution_count": 17,
   "id": "af1afbad",
   "metadata": {
    "ExecuteTime": {
     "end_time": "2022-06-01T16:21:57.794899Z",
     "start_time": "2022-06-01T16:21:57.776094Z"
    }
   },
   "outputs": [],
   "source": [
    "def animate1(i):\n",
    "    lin_odom.set_data(timeline, lo_data)\n",
    "    ang_odom.set_data(timeline, ao_data)\n",
    "    lin_cmd.set_data(timeline, lc_data)\n",
    "    ang_cmd.set_data(timeline, ac_data)\n",
    "    ax.axis([timeline[0]-0.2,timeline[9]+0.2,-0.5,0.5])   \n",
    "    return (lin_odom, ang_odom, lin_cmd, ang_cmd)\n",
    "\n",
    "anim1 = animation.FuncAnimation(fig, animate1, init_func=init1,\n",
    "                               frames=100, interval=20, blit=True)"
   ]
  },
  {
   "cell_type": "markdown",
   "id": "ac4e0b9f",
   "metadata": {},
   "source": [
    "### Real time position feedback\n",
    "The graph below and it is live updated and it shows the position of the robot in the plane xy thanks to the data provided by the ``/odom`` topic."
   ]
  },
  {
   "cell_type": "code",
   "execution_count": 8,
   "id": "b6c7a8d7",
   "metadata": {
    "ExecuteTime": {
     "end_time": "2022-06-01T16:20:04.691266Z",
     "start_time": "2022-06-01T16:20:04.658437Z"
    }
   },
   "outputs": [
    {
     "data": {
      "application/vnd.jupyter.widget-view+json": {
       "model_id": "7932ee2947264c2d8a059d2c2782bf8f",
       "version_major": 2,
       "version_minor": 0
      },
      "text/plain": [
       "Canvas(toolbar=Toolbar(toolitems=[('Home', 'Reset original view', 'home', 'home'), ('Back', 'Back to previous …"
      ]
     },
     "metadata": {},
     "output_type": "display_data"
    }
   ],
   "source": [
    "# Real time position graph\n",
    "fig1, ax1 = plt.subplots()\n",
    "\n",
    "ax1.set_xlim(( -5, 5))\n",
    "ax1.set_ylim((-5, 5))\n",
    "ax1.set_title(\"Odometry vs cmd_vel\") \n",
    "\n",
    "#arrow = ax.text(xpos, ypos, \"↑\", color='r', size=15, rotation=ang)\n",
    "\n",
    "line, = ax1.plot([], [], 'ro')\n",
    "x_data=[]\n",
    "y_data=[]"
   ]
  },
  {
   "cell_type": "code",
   "execution_count": 9,
   "id": "971aa1f2",
   "metadata": {
    "ExecuteTime": {
     "end_time": "2022-06-01T16:20:04.721921Z",
     "start_time": "2022-06-01T16:20:04.694554Z"
    }
   },
   "outputs": [
    {
     "name": "stderr",
     "output_type": "stream",
     "text": [
      "Removing previous callback, only one redirection possible right now\n"
     ]
    },
    {
     "data": {
      "application/vnd.jupyter.widget-view+json": {
       "model_id": "1dc249eebf474772875ff8ac32d3edf2",
       "version_major": 2,
       "version_minor": 0
      },
      "text/plain": [
       "VBox(children=(HBox(children=(Button(description='Stop', style=ButtonStyle()),)), Output(layout=Layout(border=…"
      ]
     },
     "metadata": {},
     "output_type": "display_data"
    }
   ],
   "source": [
    "def init2():\n",
    "    line.set_data([], [])\n",
    "    return (line,)\n",
    "\n",
    "def odom_pose_callback(msg):\n",
    "    y_data.append(msg.pose.pose.position.y)\n",
    "    x_data.append(msg.pose.pose.position.x)\n",
    "    \n",
    "def animate2(i):\n",
    "    line.set_data(x_data, y_data)\n",
    "    return (line,)\n",
    "\n",
    "jr.subscribe('/odom', Odometry, odom_pose_callback)"
   ]
  },
  {
   "cell_type": "code",
   "execution_count": 10,
   "id": "1b9103e7",
   "metadata": {
    "ExecuteTime": {
     "end_time": "2022-06-01T16:20:04.727655Z",
     "start_time": "2022-06-01T16:20:04.723600Z"
    }
   },
   "outputs": [],
   "source": [
    "anim = animation.FuncAnimation(fig, animate2, init_func=init2,\n",
    "                               frames=100, interval=20, blit=True)"
   ]
  },
  {
   "cell_type": "markdown",
   "id": "38631bbc",
   "metadata": {},
   "source": [
    "### Reached and canceled targets\n",
    "This bar plot shows the number of reached and canceled goals. The global variable ``reached`` is updated in the ``result_callback()`` function, which is called every time a message from  the topic ``/reaching_goal/result`` is received.  The global variable ``canceled`` is updated in both the functions ``on_stop_button_clicked()`` and ``cancel_goal()``, called by the stop button of the first modality interface and all the five buttons of the second.  \n",
    "The plot is not updated live, so the cell below needs to be run to show the current state."
   ]
  },
  {
   "cell_type": "code",
   "execution_count": 18,
   "id": "5795b0c1",
   "metadata": {
    "ExecuteTime": {
     "end_time": "2022-06-01T16:22:45.463309Z",
     "start_time": "2022-06-01T16:22:45.382416Z"
    }
   },
   "outputs": [
    {
     "data": {
      "application/vnd.jupyter.widget-view+json": {
       "model_id": "6efebce1e04f4492a095b7d1b690f7b2",
       "version_major": 2,
       "version_minor": 0
      },
      "text/plain": [
       "Canvas(toolbar=Toolbar(toolitems=[('Home', 'Reset original view', 'home', 'home'), ('Back', 'Back to previous …"
      ]
     },
     "metadata": {},
     "output_type": "display_data"
    }
   ],
   "source": [
    "# Bar plot\n",
    "labels = ['reached','canceled']\n",
    "eConf = {'ecolor': '0.3'}\n",
    "\n",
    "fig3, ax3 = plt.subplots()\n",
    "plt.bar(0, reached, align='edge', color='g')\n",
    "plt.bar(1, canceled, align='edge', color='r')\n",
    "\n",
    "plt.xlabel('Targets')\n",
    "plt.ylabel('Number of times')\n",
    "plt.title('Number of reached and canceled targets')\n",
    "plt.xticks( np.arange(2)+0.45, labels)\n",
    "plt.show()"
   ]
  },
  {
   "cell_type": "markdown",
   "id": "0356218f",
   "metadata": {},
   "source": [
    "### Histogram of goal reaching time\n",
    "The histogram below shows the time needed for the different goals to be reached. The graph plots the list of values ``elapsed_t`` which is updated with a new value every time a goal is reached in the function ``result_callback()``.  \n",
    "As the one above, this plot is not updated live, so the cell below needs to be run to show the current state."
   ]
  },
  {
   "cell_type": "code",
   "execution_count": 19,
   "id": "f7c294a7",
   "metadata": {
    "ExecuteTime": {
     "end_time": "2022-06-01T16:22:51.067739Z",
     "start_time": "2022-06-01T16:22:50.963255Z"
    }
   },
   "outputs": [
    {
     "data": {
      "application/vnd.jupyter.widget-view+json": {
       "model_id": "ca2bc0c984d84428ad987d54fd902169",
       "version_major": 2,
       "version_minor": 0
      },
      "text/plain": [
       "Canvas(toolbar=Toolbar(toolitems=[('Home', 'Reset original view', 'home', 'home'), ('Back', 'Back to previous …"
      ]
     },
     "metadata": {},
     "output_type": "display_data"
    }
   ],
   "source": [
    "# Elapsed time histogram\n",
    "global elapsed_t      # list of the amount of time taken to reach each goal \n",
    "\n",
    "fig2, ax2 = plt.subplots()\n",
    "ax2.hist(elapsed_t)\n",
    "ax2.set_title('Required time to reach a target')\n",
    "ax2.set_ylabel('Elapsed time')\n",
    "plt.show()"
   ]
  },
  {
   "cell_type": "markdown",
   "id": "872d4774",
   "metadata": {},
   "source": [
    "## Final notes\n",
    "The subscription to the topics ``/odom`` and ``/cmd_vel`` has been declared more than once in different cells in order to keep a certain level of modularity throughout the notebook. Contiguous cells need to be run toghether, as well as dependent blocks. The first cell containing the libraries, the global variables and the node start needs to be run in any case."
   ]
  }
 ],
 "metadata": {
  "hide_input": false,
  "kernelspec": {
   "display_name": "Python 3 (ipykernel)",
   "language": "python",
   "name": "python3"
  },
  "language_info": {
   "codemirror_mode": {
    "name": "ipython",
    "version": 3
   },
   "file_extension": ".py",
   "mimetype": "text/x-python",
   "name": "python",
   "nbconvert_exporter": "python",
   "pygments_lexer": "ipython3",
   "version": "3.8.5"
  },
  "toc": {
   "base_numbering": 1,
   "nav_menu": {},
   "number_sections": true,
   "sideBar": true,
   "skip_h1_title": false,
   "title_cell": "Table of Contents",
   "title_sidebar": "Contents",
   "toc_cell": false,
   "toc_position": {},
   "toc_section_display": true,
   "toc_window_display": false
  },
  "varInspector": {
   "cols": {
    "lenName": 16,
    "lenType": 16,
    "lenVar": 40
   },
   "kernels_config": {
    "python": {
     "delete_cmd_postfix": "",
     "delete_cmd_prefix": "del ",
     "library": "var_list.py",
     "varRefreshCmd": "print(var_dic_list())"
    },
    "r": {
     "delete_cmd_postfix": ") ",
     "delete_cmd_prefix": "rm(",
     "library": "var_list.r",
     "varRefreshCmd": "cat(var_dic_list()) "
    }
   },
   "types_to_exclude": [
    "module",
    "function",
    "builtin_function_or_method",
    "instance",
    "_Feature"
   ],
   "window_display": false
  }
 },
 "nbformat": 4,
 "nbformat_minor": 5
}
