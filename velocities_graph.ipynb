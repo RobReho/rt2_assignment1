{
 "cells": [
  {
   "cell_type": "code",
   "execution_count": 1,
   "id": "9b2891bc",
   "metadata": {
    "ExecuteTime": {
     "end_time": "2022-06-01T13:06:44.423001Z",
     "start_time": "2022-06-01T13:06:42.415454Z"
    }
   },
   "outputs": [
    {
     "data": {
      "application/vnd.jupyter.widget-view+json": {
       "model_id": "ec37df616c514881bf0147a7aefc6153",
       "version_major": 2,
       "version_minor": 0
      },
      "text/plain": [
       "Canvas(toolbar=Toolbar(toolitems=[('Home', 'Reset original view', 'home', 'home'), ('Back', 'Back to previous …"
      ]
     },
     "metadata": {},
     "output_type": "display_data"
    }
   ],
   "source": [
    "%matplotlib widget\n",
    "import numpy as np\n",
    "import matplotlib.pyplot as plt\n",
    "import jupyros as jr\n",
    "import rospy\n",
    "from nav_msgs.msg import Odometry\n",
    "from matplotlib import animation, rc\n",
    "from geometry_msgs.msg import Twist\n",
    "import ipywidgets as widgets\n",
    "import time\n",
    "from IPython.display import display\n",
    "\n",
    "rospy.init_node('graphic_feedback')\n",
    "timeline = list(range(0, 10))\n",
    "start_timer = time.time()\n",
    "\n",
    "#x = np.linspace(0, 2, 100)\n",
    "fig, ax = plt.subplots() # Create a figure and an axes.\n",
    "lin_odom, = ax.plot([], [], color='b', label='odom lin vel') # Plot some data on the axes.\n",
    "ang_odom, = ax.plot([], [], color='r', label='odom ang vel') # Plot more data on the axes...\n",
    "lin_cmd, = ax.plot([], [], color='b', linestyle='--', label='cmd lin vel') # ... and some more.\n",
    "ang_cmd, = ax.plot([], [], color='r', linestyle='--', label='cmd ang vel') # ... and some more.\n",
    "ax.set_xlabel('time (s)') # Add an xlabel to the axes.\n",
    "ax.set_ylabel('velocities') # Add a ylabel to the axes.\n",
    "ax.set_title(\"Odometry vs cmd_vel\") # Add a title to the axes.\n",
    "plt.legend(loc='lower left') # Add a legend.\n",
    "\n",
    "lo_data = []\n",
    "ao_data = []\n",
    "lc_data = []\n",
    "ac_data = []"
   ]
  },
  {
   "cell_type": "code",
   "execution_count": 2,
   "id": "95293c8b",
   "metadata": {
    "ExecuteTime": {
     "end_time": "2022-06-01T13:06:44.574219Z",
     "start_time": "2022-06-01T13:06:44.427299Z"
    }
   },
   "outputs": [
    {
     "data": {
      "application/vnd.jupyter.widget-view+json": {
       "model_id": "2b994ba6539d4ef2a3c431c1c1775558",
       "version_major": 2,
       "version_minor": 0
      },
      "text/plain": [
       "VBox(children=(HBox(children=(Button(description='Stop', style=ButtonStyle()),)), Output(layout=Layout(border=…"
      ]
     },
     "metadata": {},
     "output_type": "display_data"
    }
   ],
   "source": [
    "def init():\n",
    "    lin_odom.set_data([], [])\n",
    "    ang_odom.set_data([], [])\n",
    "    lin_cmd.set_data([], [])\n",
    "    ang_cmd.set_data([], [])\n",
    "    return (lin_odom, ang_odom, lin_cmd, ang_cmd)\n",
    "\n",
    "\n",
    "def odom_callback(msg):\n",
    "    if len(timeline)>10:\n",
    "        timeline.pop(0)\n",
    "    if len(lo_data)>10:\n",
    "        lo_data.pop(0)\n",
    "    if len(ao_data)>10:\n",
    "        ao_data.pop(0)\n",
    "    lo_data.append(msg.twist.twist.linear.x)\n",
    "    ao_data.append(msg.twist.twist.angular.z)\n",
    "    timeline.append(time.time()-start_timer)\n",
    "    \n",
    "jr.subscribe('/odom', Odometry, odom_callback)"
   ]
  },
  {
   "cell_type": "code",
   "execution_count": 3,
   "id": "a271d49d",
   "metadata": {
    "ExecuteTime": {
     "end_time": "2022-06-01T13:06:44.672731Z",
     "start_time": "2022-06-01T13:06:44.580864Z"
    }
   },
   "outputs": [
    {
     "data": {
      "application/vnd.jupyter.widget-view+json": {
       "model_id": "6cbd6503271d4980800e6dc34cb5a887",
       "version_major": 2,
       "version_minor": 0
      },
      "text/plain": [
       "VBox(children=(HBox(children=(Button(description='Stop', style=ButtonStyle()),)), Output(layout=Layout(border=…"
      ]
     },
     "metadata": {},
     "output_type": "display_data"
    }
   ],
   "source": [
    "def cmd_callback(msg):\n",
    "    if len(timeline)>10:\n",
    "        timeline.pop(0)\n",
    "    if len(lc_data)>10:\n",
    "        lc_data.pop(0)\n",
    "    if len(ac_data)>10:\n",
    "        ac_data.pop(0)\n",
    "    lc_data.append(msg.linear.x)\n",
    "    ac_data.append(msg.angular.z)\n",
    "    timeline.append(time.time()-start_timer)\n",
    "    \n",
    "jr.subscribe('/cmd_vel', Twist, cmd_callback)"
   ]
  },
  {
   "cell_type": "code",
   "execution_count": 4,
   "id": "a011a4ce",
   "metadata": {
    "ExecuteTime": {
     "end_time": "2022-06-01T13:06:44.721824Z",
     "start_time": "2022-06-01T13:06:44.688906Z"
    }
   },
   "outputs": [],
   "source": [
    "def animate(i):\n",
    "    lin_odom.set_data(timeline, lo_data)\n",
    "    ang_odom.set_data(timeline, ao_data)\n",
    "    lin_cmd.set_data(timeline, lc_data)\n",
    "    ang_cmd.set_data(timeline, ac_data)\n",
    "    ax.axis([timeline[0]-0.2,timeline[9]+0.2,-0.5,0.5])   \n",
    "    return (lin_odom, ang_odom, lin_cmd, ang_cmd)\n",
    "\n",
    "anim = animation.FuncAnimation(fig, animate, init_func=init,\n",
    "                               frames=100, interval=20, blit=True)"
   ]
  },
  {
   "cell_type": "code",
   "execution_count": 5,
   "id": "0013fb89",
   "metadata": {
    "ExecuteTime": {
     "end_time": "2022-06-01T13:06:44.748711Z",
     "start_time": "2022-06-01T13:06:44.726866Z"
    }
   },
   "outputs": [
    {
     "name": "stdout",
     "output_type": "stream",
     "text": [
      "[2, 3, 4, 5, 6, 7, 8, 9, 0.30812549591064453, 0.36354589462280273, 0.41196179389953613]\n"
     ]
    }
   ],
   "source": [
    "print(timeline)"
   ]
  },
  {
   "cell_type": "code",
   "execution_count": null,
   "id": "9089196b",
   "metadata": {},
   "outputs": [],
   "source": []
  },
  {
   "cell_type": "code",
   "execution_count": null,
   "id": "74a88f46",
   "metadata": {},
   "outputs": [],
   "source": []
  }
 ],
 "metadata": {
  "hide_input": false,
  "kernelspec": {
   "display_name": "Python 3 (ipykernel)",
   "language": "python",
   "name": "python3"
  },
  "language_info": {
   "codemirror_mode": {
    "name": "ipython",
    "version": 3
   },
   "file_extension": ".py",
   "mimetype": "text/x-python",
   "name": "python",
   "nbconvert_exporter": "python",
   "pygments_lexer": "ipython3",
   "version": "3.8.5"
  },
  "toc": {
   "base_numbering": 1,
   "nav_menu": {},
   "number_sections": true,
   "sideBar": true,
   "skip_h1_title": false,
   "title_cell": "Table of Contents",
   "title_sidebar": "Contents",
   "toc_cell": false,
   "toc_position": {},
   "toc_section_display": true,
   "toc_window_display": false
  },
  "varInspector": {
   "cols": {
    "lenName": 16,
    "lenType": 16,
    "lenVar": 40
   },
   "kernels_config": {
    "python": {
     "delete_cmd_postfix": "",
     "delete_cmd_prefix": "del ",
     "library": "var_list.py",
     "varRefreshCmd": "print(var_dic_list())"
    },
    "r": {
     "delete_cmd_postfix": ") ",
     "delete_cmd_prefix": "rm(",
     "library": "var_list.r",
     "varRefreshCmd": "cat(var_dic_list()) "
    }
   },
   "types_to_exclude": [
    "module",
    "function",
    "builtin_function_or_method",
    "instance",
    "_Feature"
   ],
   "window_display": false
  }
 },
 "nbformat": 4,
 "nbformat_minor": 5
}
